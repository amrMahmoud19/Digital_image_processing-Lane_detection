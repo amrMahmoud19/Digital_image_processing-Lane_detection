{
 "cells": [
  {
   "cell_type": "code",
   "execution_count": null,
   "id": "cb0ce652",
   "metadata": {},
   "outputs": [],
   "source": [
    "import cv2 as cv\n",
    "import numpy as np"
   ]
  },
  {
   "cell_type": "code",
   "execution_count": null,
   "id": "ef8bfd3c",
   "metadata": {},
   "outputs": [],
   "source": [
    "def PerspectiveTransform(src,dst):\n",
    "    mat = cv2.getPerspectiveTransform(src,dst)\n",
    "    mat_inv = cv2.getPerspectiveTransform(dst,src)\n",
    "    return mat,mat_inv\n",
    "\n",
    "\n",
    "def warpPerspective(img, mat, size):\n",
    "    return cv2.warpPerspective(img, mat,size, cv2.INTER_LINEAR)\n",
    "\n",
    "#function for converting the image to hls mode then return s as it is the one we are intrested in studying\n",
    "def trans2hls(image):\n",
    "    img_hls = cv2.cvtColor(image, cv2.COLOR_BGR2HLS)\n",
    "    (h,l,s) = cv2.split(img_hls)\n",
    "    return s"
   ]
  }
 ],
 "metadata": {
  "kernelspec": {
   "display_name": "Python 3",
   "language": "python",
   "name": "python3"
  },
  "language_info": {
   "codemirror_mode": {
    "name": "ipython",
    "version": 3
   },
   "file_extension": ".py",
   "mimetype": "text/x-python",
   "name": "python",
   "nbconvert_exporter": "python",
   "pygments_lexer": "ipython3",
   "version": "3.8.8"
  }
 },
 "nbformat": 4,
 "nbformat_minor": 5
}
