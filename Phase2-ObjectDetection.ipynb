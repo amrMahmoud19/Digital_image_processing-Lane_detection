{
 "cells": [
  {
   "cell_type": "markdown",
   "id": "6d4eda35",
   "metadata": {},
   "source": [
    "# Phase 2 - YOLO object detection"
   ]
  },
  {
   "cell_type": "markdown",
   "id": "5e8c5884",
   "metadata": {},
   "source": [
    "## Imports"
   ]
  },
  {
   "cell_type": "code",
   "execution_count": 1,
   "id": "0bbd116b",
   "metadata": {},
   "outputs": [],
   "source": [
    "import numpy as np\n",
    "import time\n",
    "import cv2 \n",
    "import os\n",
    "import glob\n",
    "import matplotlib.pyplot as plt\n",
    "COLOR = (170,205,102)\n",
    "COLOR_TEXT = (255,0,255)"
   ]
  },
  {
   "cell_type": "markdown",
   "id": "5d893e01",
   "metadata": {},
   "source": [
    "### Reading image"
   ]
  },
  {
   "cell_type": "code",
   "execution_count": 2,
   "id": "31485b3c",
   "metadata": {},
   "outputs": [],
   "source": [
    "images_paths = glob.glob(\"Downloads/project_data/test_images/*.jpg\")\n",
    "images = [plt.imread(image) for image in images_paths]\n",
    "\n",
    "# img = cv2.imread(r\"Downloads/test5.jpg\")\n",
    "img = images[7]\n",
    "img = cv2.cvtColor(img, cv2.COLOR_BGR2RGB)\n",
    "\n",
    "(H, W) = img.shape[:2]\n"
   ]
  },
  {
   "cell_type": "markdown",
   "id": "106ac66d",
   "metadata": {},
   "source": [
    "## Passing weights and configuration file to neural network"
   ]
  },
  {
   "cell_type": "code",
   "execution_count": 3,
   "id": "ada302d5",
   "metadata": {},
   "outputs": [],
   "source": [
    "weights_path = os.path.join(\"Downloads\\yolo\", \"yolov3.weights\")\n",
    "config_path = os.path.join(\"Downloads\\yolo\", \"yolov3.cfg\")"
   ]
  },
  {
   "cell_type": "code",
   "execution_count": 4,
   "id": "b8089314",
   "metadata": {},
   "outputs": [],
   "source": [
    "net = cv2.dnn.readNetFromDarknet(config_path, weights_path)"
   ]
  },
  {
   "cell_type": "markdown",
   "id": "fd49f3bd",
   "metadata": {},
   "source": [
    "## Getting output layers"
   ]
  },
  {
   "cell_type": "code",
   "execution_count": 5,
   "id": "9c33f8f4",
   "metadata": {},
   "outputs": [],
   "source": [
    "names = net.getLayerNames()\n",
    "# extracting the layer names\n",
    "layer_names = [ names[ i[0]-1 ] for i in net.getUnconnectedOutLayers() ]"
   ]
  },
  {
   "cell_type": "markdown",
   "id": "2b82da24",
   "metadata": {},
   "source": [
    "## Inserting image blobs as input to neural network"
   ]
  },
  {
   "cell_type": "code",
   "execution_count": 6,
   "id": "53073f81",
   "metadata": {},
   "outputs": [],
   "source": [
    "blob = cv2.dnn.blobFromImage(img, 1/255.0, (416,416), crop=False, swapRB = False) # swapRB = False lw ana swapthom fo2 w ana bimport"
   ]
  },
  {
   "cell_type": "code",
   "execution_count": 7,
   "id": "5db0c355",
   "metadata": {},
   "outputs": [
    {
     "name": "stdout",
     "output_type": "stream",
     "text": [
      "Runtime for Detecting Objects is: 1.384394884109497\n"
     ]
    }
   ],
   "source": [
    "net.setInput(blob)\n",
    "\n",
    "# Calculating the runtime for NN\n",
    "start_time = time.time()\n",
    "\n",
    "layers_output = net.forward(layer_names) # performing a forward pass through the layers\n",
    "print(\"Runtime for Detecting Objects is: {}\".format(time.time() - start_time))"
   ]
  },
  {
   "cell_type": "code",
   "execution_count": 8,
   "id": "1a4d181b",
   "metadata": {},
   "outputs": [
    {
     "name": "stdout",
     "output_type": "stream",
     "text": [
      "hello\n",
      "hello\n",
      "hello\n"
     ]
    }
   ],
   "source": [
    "boxes = []\n",
    "classIDs = []\n",
    "confidences = []\n",
    "\n",
    "for output in layers_output:\n",
    "    print(\"hello\")\n",
    "    for detection in output:\n",
    "\n",
    "        scores = detection[5:]\n",
    "        classID = np.argmax(scores)\n",
    "        \n",
    "        confidence = scores[classID]\n",
    "\n",
    "        if (confidence > 0.85):\n",
    "            box = detection[:4]*np.array([W, H, W, H]) # leh 3mlna multiply????\n",
    "            bx, by, bw, bh = box.astype(\"int\")\n",
    "\n",
    "            # 3ayzeen el upperleft corners msh el centers 3shan kdh 3mlna el subtraction dh\n",
    "            x = int(bx - bw/2)\n",
    "            y = int(by - bh/2)\n",
    "\n",
    "            boxes.append([x, y, int(bw), int(bh)])\n",
    "            confidences.append(float(confidence))\n",
    "            classIDs.append(classID)\n",
    "\n"
   ]
  },
  {
   "cell_type": "markdown",
   "id": "6a6f5faf",
   "metadata": {},
   "source": [
    "## Performing Non-Maximum Suppression to get rid of overlapping bounding boxes"
   ]
  },
  {
   "cell_type": "code",
   "execution_count": 9,
   "id": "d03ecc89",
   "metadata": {},
   "outputs": [],
   "source": [
    "idxs = cv2.dnn.NMSBoxes(boxes, confidences, 0.8,0.8) # lazem confidences tb2a float"
   ]
  },
  {
   "cell_type": "code",
   "execution_count": 10,
   "id": "5c287c51",
   "metadata": {},
   "outputs": [],
   "source": [
    "label_path = os.path.join(\"Downloads/yolo\", \"coco.names\")\n",
    "labels = open(label_path).read().strip().split(\"\\n\") # strip btremove el spaces ely mwgoda"
   ]
  },
  {
   "cell_type": "code",
   "execution_count": 11,
   "id": "cae18ec7",
   "metadata": {},
   "outputs": [],
   "source": [
    "for i in idxs.flatten():\n",
    "    (x, y, w, h) = [boxes[i][0], boxes[i][1], boxes[i][2], boxes[i][3]]\n",
    "\n",
    "    # drawing the boxes\n",
    "    img = cv2.rectangle(img, (x,y), (x+w,y+h), COLOR, 2 )\n",
    "\n",
    "    # Putting name of detected object and accuracy of detection\n",
    "    cv2.putText(img,\"{} : {:.3f}\".format(labels[classIDs[i]], confidences[i]), (x,y-5), cv2.FONT_HERSHEY_SIMPLEX,0.5, COLOR_TEXT,2)\n",
    "    "
   ]
  },
  {
   "cell_type": "code",
   "execution_count": 12,
   "id": "59d16616",
   "metadata": {},
   "outputs": [],
   "source": [
    "cv2.imshow(\"Final Image\",img)\n",
    "cv2.waitKey(0)\n",
    "cv2.destroyAllWindows() \n",
    "# plt.imshow(img)"
   ]
  },
  {
   "cell_type": "code",
   "execution_count": null,
   "id": "4f7d3c4e",
   "metadata": {},
   "outputs": [],
   "source": []
  },
  {
   "cell_type": "code",
   "execution_count": null,
   "id": "55efb44c",
   "metadata": {},
   "outputs": [],
   "source": []
  }
 ],
 "metadata": {
  "kernelspec": {
   "display_name": "Python 3",
   "language": "python",
   "name": "python3"
  },
  "language_info": {
   "codemirror_mode": {
    "name": "ipython",
    "version": 3
   },
   "file_extension": ".py",
   "mimetype": "text/x-python",
   "name": "python",
   "nbconvert_exporter": "python",
   "pygments_lexer": "ipython3",
   "version": "3.8.8"
  }
 },
 "nbformat": 4,
 "nbformat_minor": 5
}
